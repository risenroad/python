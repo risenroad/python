{
 "cells": [
  {
   "cell_type": "markdown",
   "metadata": {},
   "source": [
    "## Функции\n",
    "\n",
    "Если мы часто используем однотипный код, можно упаковать его в функцию и не переписывать заново каждый раз."
   ]
  },
  {
   "cell_type": "code",
   "execution_count": null,
   "metadata": {},
   "outputs": [],
   "source": [
    "def my_function(x): # аргументов может быть несколько и не не быть вовсе\n",
    "    instruction = x * 2 # тело функции, здесь могут быть любые операции с переменные. В том числе могут создаваться несколько переменных\n",
    "    return instruction # return прерывает выполнение функции и возвращает то, что указано после него"
   ]
  },
  {
   "cell_type": "markdown",
   "metadata": {},
   "source": [
    "### **return**\n",
    "\n",
    "1. Прерывает выполнение функции, где бы ни стоял.\n",
    "\n",
    "2. Возвращает результат работы функции, чтобы его можно было дальше использовать в основном коде. Возвращается то значение или выражение, которое указано после `return`.\n",
    "\n",
    "\n",
    "💡 Внутри одной функции может быть несколько `return` , а значит, несколько возможных возвращаемых значений. Какое значение вернется, зависит от того, какой `return`  выполнится.\n",
    "\n"
   ]
  },
  {
   "cell_type": "code",
   "execution_count": null,
   "metadata": {},
   "outputs": [],
   "source": [
    "# то, какое значение вернет функция check_phone, зависит от агумента, который мы ей передадим\n",
    "\n",
    "def check_phone(phone):           \n",
    "    if phone[0] == '+':\n",
    "        return 'Телефон в международном формате'\n",
    "    elif phone[0] == '8':\n",
    "        return 'Телефон через восьмерку'\n",
    "return 'Это точно телефон?'\n",
    "\n",
    "phone_type = check_phone('81234567890')\n",
    "# так как первый символ — 8, выполнится второй по счету return"
   ]
  },
  {
   "cell_type": "markdown",
   "metadata": {},
   "source": [
    "Если в функции нет `return`, это не ошибка. \n",
    "Есть функции, задача которых, например, создать файл на локальном компьютере или отправить отчет о метриках заказчику. \n",
    "\n",
    "Такие функции, отработав, возвращают объект `None` . \n",
    "Если мы присвоим переменной значение такой функции, то значение переменной станет `None` ."
   ]
  },
  {
   "cell_type": "markdown",
   "metadata": {},
   "source": [
    "### Аргументы функции\n",
    "\n",
    "Создавая функцию, которая принимает аргументы, мы всегда прописываем их имена и ставим их в определенном порядке. \n",
    "\n"
   ]
  },
  {
   "cell_type": "code",
   "execution_count": null,
   "metadata": {},
   "outputs": [],
   "source": [
    "def append_phone(phone, prefix):  # phone, prefix — имена аргументов        \n",
    "    return prefix + phone"
   ]
  },
  {
   "cell_type": "markdown",
   "metadata": {},
   "source": [
    "**Передача аргументов через позицию** \n",
    "\n",
    "Аргументы, переданные без указания имени, называются **позиционными, их порядок строгий, как в коде функции."
   ]
  },
  {
   "cell_type": "code",
   "execution_count": null,
   "metadata": {},
   "outputs": [],
   "source": [
    "append_phone('9130011222', '+7') # передаем в правильно порядке, вернет +79130011222\n",
    "append_phone('+7', '9130011222') # перепутан порядок, вернет 9130011222+7"
   ]
  },
  {
   "cell_type": "markdown",
   "metadata": {},
   "source": [
    "\n",
    "**Передача аргументов через имя**\n",
    "\n",
    "Если указываем имена аргументов, они называются именованными. Их можно передавать в любом порядке. "
   ]
  },
  {
   "cell_type": "code",
   "execution_count": null,
   "metadata": {},
   "outputs": [],
   "source": [
    "append_phone(prefix='+7', phone='9130011222') # передаем через имя, поэтому прорядок неважен, вернет +79130011222\n",
    "append_phone(phone='9130011222', '+7') # вернет ошибку👇🏻"
   ]
  },
  {
   "cell_type": "markdown",
   "metadata": {},
   "source": [
    "💡 **Как только мы вводим именованный аргумент, все последующие также должны быть именованными, даже в случае, если их позиция верная.**  \n",
    "\n",
    "При этом если мы введем именованный аргумент третьим, а перед ним все остальные будут позиционными, код сработает.\n",
    "\n",
    "\n",
    "**Значение аргументов по умолчанию**\n",
    "\n",
    "Аргументы могут быть заданы по умолчанию. При вызове функции мы можем задавать такие аргументы самостоятельно, а можем оставлять значение по умолчанию."
   ]
  },
  {
   "cell_type": "markdown",
   "metadata": {},
   "source": [
    "## Импорт библиотеки и ее объектов\n",
    "\n",
    "Можно импортировать **целиком всю библиотеку.** Тогда сможем обращаться к **любому** объекту библиотеки вот так: `библиотека.объект`\n",
    "\n"
   ]
  },
  {
   "cell_type": "code",
   "execution_count": null,
   "metadata": {},
   "outputs": [],
   "source": [
    "\n",
    "import string\n",
    "\n",
    "print(string.digits) # вызываем объект digits из библиотеки string, в котором лежит строка 0123456789, выведет 0123456789\n",
    "\n",
    "\n"
   ]
  },
  {
   "cell_type": "markdown",
   "metadata": {},
   "source": [
    "Можно импортировать **отдельные объекты библиотеки**. Тогда сможем обращаться к объекту без обращения к библиотеке.\n",
    "\n"
   ]
  },
  {
   "cell_type": "code",
   "execution_count": null,
   "metadata": {},
   "outputs": [],
   "source": [
    "\n",
    "from string import digits, ascii_letters \n",
    "# ascii_letters – строка с алфавитом строчными и заглавными буквами\n",
    "\n",
    "print(digits)   # выведет 0123456789 \n",
    "print(ascii_letters) # выведет abcdefghijklmnopqrstuvwxyzABCDEFGHIJKLMNOPQRSTUVWXYZ\n"
   ]
  },
  {
   "cell_type": "markdown",
   "metadata": {},
   "source": [
    "## Библиотека datetime\n",
    "\n",
    "Используется для работы с датами и временем.\n",
    "\n",
    "### Подключение\n",
    "\n"
   ]
  },
  {
   "cell_type": "code",
   "execution_count": null,
   "metadata": {},
   "outputs": [],
   "source": [
    "\n",
    "# Вариант 1:\n",
    "import datetime # импортируем всю библиотеку\n",
    "\n",
    "# Вариант 2:\n",
    "from datetime import date, datetime, timedelta # импортируем только нужные нам объекты\n",
    "\n",
    "\n"
   ]
  },
  {
   "cell_type": "markdown",
   "metadata": {},
   "source": [
    "### Объект — date\n",
    "\n",
    "Используется для представления данных о дате (год, месяц, число). \n",
    "\n",
    "Один из применимых методов — `today()` , позволяет получать данные о текущей дате. \n",
    "\n"
   ]
  },
  {
   "cell_type": "code",
   "execution_count": null,
   "metadata": {},
   "outputs": [],
   "source": [
    "\n",
    "date.today()         # текущая дата целиком, например, 2020-12-01\n",
    "date.today().year    # текущий год, например, 2020\n",
    "date.today().month   # номер текущего месяца, например, 12\n",
    "date.today().day     # текущий день, например, 31\n",
    "\n",
    "\n"
   ]
  },
  {
   "cell_type": "markdown",
   "metadata": {},
   "source": [
    "### Объект — datetime\n",
    "\n",
    "Используется для представления данных о дате и времени. \n",
    "\n",
    "Один из применимых методов — `now()` , позволяет получить данные о текущих дате и времени.\n",
    "\n"
   ]
  },
  {
   "cell_type": "code",
   "execution_count": null,
   "metadata": {},
   "outputs": [],
   "source": [
    "\n",
    "from datetime import datetime # из библиотеки datetime импортируем объект datetime\n",
    "\n",
    "datetime.now()            # текущая дата и время, например, 2020-12-01 21:24:58.169772\n",
    "datetime.now().year       # текущий год, например, 2020\n",
    "datetime.now().month      # номер текущего месяца, например, 12\n",
    "datetime.now().day        # текущая дата, например, 1\n",
    "datetime.now().hour       # текущий час, например, 21\n",
    "datetime.now().minute     # минуты текущего времени, например, 24\n",
    "datetime.now().second     # секунды текущего времени, например, 58\n"
   ]
  },
  {
   "cell_type": "markdown",
   "metadata": {},
   "source": [
    "### strptime()\n",
    "\n",
    "Преобразует строку в формат `datetime`. \n",
    "\n",
    "В качестве аргументов передаем строку, которую мы хотим преобразовать, и **текущий**  формат в `' '`.\n",
    "\n",
    "*Синтаксис*: `datetime.datetime.strptime(our_string,'текущий формат строки')`\n",
    "\n",
    "- `our_string` — имя строки, которую хотим преобразовать;\n",
    "- `'формат строки'` — формат преобразуемой строки, например, `'%d/%m/%Y %H:%M'`.\n",
    "\n"
   ]
  },
  {
   "cell_type": "code",
   "execution_count": null,
   "metadata": {},
   "outputs": [],
   "source": [
    "```python\n",
    "from datetime import datetime\n",
    "\n",
    "our_string = '01/05/1985 13:00'\n",
    "print(datetime.strptime(our_string,'%d/%m/%Y %H:%M')) \n",
    "\n",
    "# выведет 1985-05-01 13:00:00\n",
    "```\n",
    "\n"
   ]
  },
  {
   "cell_type": "markdown",
   "metadata": {},
   "source": [
    "### strftime()\n",
    "\n",
    "Преобразует дату из формата `datetime` в строку в том формате отображения, который мы зададим. Метод через точечную нотацию применяется к дате в формате `datetime`, в аргументы ему передаем нужный нам формат.\n",
    "\n",
    "*Синтаксис:* `string_datetime.strftime('желаемый формат строки')`\n",
    "\n",
    "- `string_datetime` — имя строки, которую хотим преобразовать;\n",
    "- `'желаемый формат строки'` — формат строки, в который хотим преобразовать, например, `'%d.%m.%Y %H:%M:%S'`.\n",
    "\n"
   ]
  },
  {
   "cell_type": "code",
   "execution_count": null,
   "metadata": {},
   "outputs": [],
   "source": [
    "\n",
    "from datetime import datetime\n",
    "\n",
    "datetime_now = datetime.now()\n",
    "datetime_now.strftime('%d.%m.%Y %H:%M:%S')\n",
    "\n",
    "# выведет текущие дату и время, например 01.12.2020 21:00:00\n",
    "\n",
    "\n"
   ]
  },
  {
   "cell_type": "markdown",
   "metadata": {},
   "source": [
    "### Объект — **timedelta**\n",
    "\n",
    "Позволяет работать с временными отрезками (количество времени). Создавать свои временные отрезки, прибавлять и вычитать временные отрезки из дат и времени. \n",
    "\n"
   ]
  },
  {
   "cell_type": "code",
   "execution_count": null,
   "metadata": {},
   "outputs": [],
   "source": [
    "\n",
    "from datetime import timedelta # импортируем объект timedelta\n",
    "\n",
    "\n"
   ]
  },
  {
   "cell_type": "markdown",
   "metadata": {},
   "source": [
    "*Синтаксис создания временного отрезка:* \n",
    "\n",
    "`timedelta(days=0, seconds=0, microseconds=0, milliseconds=0, minutes=0, hours=0, weeks=0)`\n",
    "\n",
    "Все аргументы уже заданы по умолчанию, можно указывать только необходимые, обращаясь по имени.\n",
    "\n"
   ]
  },
  {
   "cell_type": "code",
   "execution_count": null,
   "metadata": {},
   "outputs": [],
   "source": [
    "\n",
    "timedelta(minutes=5)            # выведет 0:05:00\n",
    "timedelta(hours=1, minutes=5)   # выведет 1:05:00\n",
    "\n",
    "\n"
   ]
  },
  {
   "cell_type": "markdown",
   "metadata": {},
   "source": [
    "**Меняем дату и время с помощью отрезков** \n",
    "\n",
    "Мы можем прибавлять и отнимать временные отрезки относительно момента времени, тем самым меняя момент времени.\n",
    "\n"
   ]
  },
  {
   "cell_type": "code",
   "execution_count": null,
   "metadata": {},
   "outputs": [],
   "source": [
    "\n",
    "now = datetime.now()\n",
    "print(now)                        # выведет текущую дату и время, например, 2020-12-01 21:00:00.000000\n",
    "print(now + timedelta(minutes=5)) # прибавит 5 минут, выведет 2020-12-01 21:05:00.000000\n",
    "print(now - timedelta(minutes=5)) # отнимет 5 минут, выведет 2020-12-01 20:55:00.000000\n",
    "\n"
   ]
  },
  {
   "cell_type": "markdown",
   "metadata": {},
   "source": [
    "**Выводим разницу между двумя датами**\n",
    "\n",
    "Вычитая из одной даты в формате `datetime` другую, мы получаем временной отрезок в формате `timedelta` , который можем вывести в годах, днях, минутах и т. д."
   ]
  },
  {
   "cell_type": "code",
   "execution_count": null,
   "metadata": {},
   "outputs": [],
   "source": [
    "timedelta.seconds # выведет отрезок в секундах — 300\n",
    "timedelta.days    # выведет отрезок в днях — 0"
   ]
  },
  {
   "cell_type": "markdown",
   "metadata": {},
   "source": [
    "## Подстановка в строке\n",
    "\n",
    "Чтобы вывести строку, часть которой фиксированная, а часть меняется в зависимости от результата работы кода, есть несколько способов. Самые популярные — метод `format()` и f-строки.\n",
    "\n",
    "### format()\n",
    "\n",
    "Позволяет подставлять внутри строки значения переменных. Для этого в места подстановки ставится `{}` с числами внутри (первая подстановка — `{0}`, вторая — `{1}` и т. д.), а к строке применяется метод `format()` (в качестве  аргументов передаем переменные для подстановки).\n",
    "\n"
   ]
  },
  {
   "cell_type": "code",
   "execution_count": null,
   "metadata": {},
   "outputs": [],
   "source": [
    "\n",
    "# Пример 1:\n",
    "name = 'Арина'\n",
    "subject = 'Python'\n",
    "\n",
    "\"Привет, {0}! Как тебе курс по {1}?\".format(name, subject)  \n",
    "# выведет: 'Привет, Арина! Как тебе курс по Python?'\n",
    "\n",
    "# Пример 2:\n",
    "n=10\n",
    "\"{0}*2={1}\".format(n, n*2) # выведет: 10*2=20\n",
    "\n",
    "\n"
   ]
  },
  {
   "cell_type": "markdown",
   "metadata": {},
   "source": [
    "### f-строки\n",
    "\n",
    "Позволяют подставлять внутри строки значения переменных или выражений. Для этого нужно добавить к строке префикс `f` или `F`, заключить строку в кавычки и записать имя переменной или выражение прямо внутри строки с помощью `{}`.\n",
    "\n"
   ]
  },
  {
   "cell_type": "code",
   "execution_count": null,
   "metadata": {},
   "outputs": [],
   "source": [
    "\n",
    "# Пример 1:\n",
    "name = 'Арина'\n",
    "subject = 'Python'\n",
    "\n",
    "print(f'Привет, {name}! Как тебе курс по {subject}?') \n",
    "# выведет: Привет, Арина! Как тебе курс по Python?\n",
    "\n",
    "# Пример 2:\n",
    "n=10\n",
    "print(f'{n}*2={n*2}') # выведет: 10*2=20\n"
   ]
  }
 ],
 "metadata": {
  "kernelspec": {
   "display_name": "Python 3",
   "language": "python",
   "name": "python3"
  },
  "language_info": {
   "codemirror_mode": {
    "name": "ipython",
    "version": 3
   },
   "file_extension": ".py",
   "mimetype": "text/x-python",
   "name": "python",
   "nbconvert_exporter": "python",
   "pygments_lexer": "ipython3",
   "version": "3.8.3"
  }
 },
 "nbformat": 4,
 "nbformat_minor": 4
}
