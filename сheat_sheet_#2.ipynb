{
 "cells": [
  {
   "cell_type": "markdown",
   "metadata": {},
   "source": [
    "## Тип данных – список / list"
   ]
  },
  {
   "cell_type": "code",
   "execution_count": null,
   "metadata": {},
   "outputs": [],
   "source": [
    "# список - упорядоченный набор элементов произвольных типов в квадратных скобках\n",
    "ex_list = ['str', 1, 1.5, True]\n",
    "\n",
    "list = [ ] # так можно создать новый список\n",
    "new_list = list() # так тоже можно создать список"
   ]
  },
  {
   "cell_type": "markdown",
   "metadata": {},
   "source": [
    "### copy()\n",
    "\n",
    "    \n",
    "💡 Может пригодиться в работе со списками. Создает копию объекта так, что новый объект не ссылается на тот же участок памяти, что копируемый, и не изменяется вслед за изменением копируемого.\n"
   ]
  },
  {
   "cell_type": "code",
   "execution_count": null,
   "metadata": {},
   "outputs": [],
   "source": [
    "old_list = [1, 2, 3]\n",
    "\n",
    "new_list = old_list # создаем новый объект, который ссылается на тот же участок памяти, что old_list\n",
    "\n",
    "new_list_copy_of_old = old_list.copy() # копируем old_list, новый объект независим от old_list\n",
    "\n",
    "old_list.append(4) # добавили 4 к old_list\n",
    "\n",
    "print(old_list)  # выведет: [1, 2, 3, 4]\n",
    "print(new_list)  # выведет: [1, 2, 3, 4], так как ссылается на тот же участок памяти, что и old_list\n",
    "print(new_list_copy_of_old) # выведет: [1, 2, 3], так как независим от old_list"
   ]
  },
  {
   "cell_type": "markdown",
   "metadata": {},
   "source": [
    "Срезы"
   ]
  },
  {
   "cell_type": "code",
   "execution_count": null,
   "metadata": {},
   "outputs": [],
   "source": [
    "\n",
    "mixed_list[0] # достаем первый элемент списка\n",
    "mixed_list[0:10] # достаем элементы с первого по десятый\n",
    "mixed_list[0] = 'smth else' # заменяем первый элемент списка \n",
    "\n",
    "# нельзя назначить значение для несуществующего элемента\n"
   ]
  },
  {
   "cell_type": "markdown",
   "metadata": {},
   "source": [
    "Добавление элементов в список"
   ]
  },
  {
   "cell_type": "code",
   "execution_count": null,
   "metadata": {},
   "outputs": [],
   "source": [
    "list.append(value) # добавляет значение аргумента в скобках в конец списка\n",
    "\n",
    "list.insert(index, value) # добавляет элемент на указанное индексом место\n",
    "\n",
    "# если выполнить этот код несколько раз, появится несколько новых одинаковых элементов"
   ]
  },
  {
   "cell_type": "markdown",
   "metadata": {},
   "source": [
    "Удаление элементов из списка "
   ]
  },
  {
   "cell_type": "code",
   "execution_count": null,
   "metadata": {},
   "outputs": [],
   "source": [
    "list.remove(x) # удаляет первый элемент, значение которого равно x\n",
    "\n",
    "list.pop([i]) # удаляет i-тый элемент и возвращает его значение. Если i не указано, то удалится последний элемент\n",
    "\n",
    "# Например: \n",
    "var = list.pop(0) # удалит первый элемент списка list и запишет его в переменную var \n",
    "\n",
    "# здесь квадратные скобки указывают на необязательный аргумент, у которого есть значение по умолчанию"
   ]
  },
  {
   "cell_type": "markdown",
   "metadata": {},
   "source": [
    "Подсчет частоты вхождения элемента"
   ]
  },
  {
   "cell_type": "code",
   "execution_count": null,
   "metadata": {},
   "outputs": [],
   "source": [
    "list.count(x) # вернет количество вхождений элемента со значением x"
   ]
  },
  {
   "cell_type": "markdown",
   "metadata": {},
   "source": [
    "## split( )\n",
    "\n",
    "метод, разделяющий строку на список строк по заданному разделителю"
   ]
  },
  {
   "cell_type": "code",
   "execution_count": null,
   "metadata": {},
   "outputs": [],
   "source": [
    "\n",
    "str.split('@') # разобьет строку по разделителю @ и вернет список строк\n",
    "str.split() # по умолчанию разделитель равен пробелу\n"
   ]
  },
  {
   "cell_type": "markdown",
   "metadata": {},
   "source": [
    "## Тип данных – кортеж / tuple"
   ]
  },
  {
   "cell_type": "code",
   "execution_count": null,
   "metadata": {},
   "outputs": [],
   "source": [
    "# неизменяемый \"список\"\n",
    "\n",
    "my_tuple = (1,2,True)"
   ]
  },
  {
   "cell_type": "code",
   "execution_count": null,
   "metadata": {},
   "outputs": [],
   "source": [
    "# вот что будет, если неверно поставить разделитель во float\n",
    "\n",
    "data = 3\n",
    "wrong_data = 5,8 # вместо точки используем запятую, как в кортеже\n",
    "result = data * wrong_data\n",
    "\n",
    "print(type(result), '|', result) # код повторит кортеж трижды\n",
    "# выведет <class 'tuple'> | (5, 8, 5, 8, 5, 8)"
   ]
  },
  {
   "cell_type": "markdown",
   "metadata": {},
   "source": [
    "## Тип данных – множество / set\n"
   ]
  },
  {
   "cell_type": "code",
   "execution_count": null,
   "metadata": {},
   "outputs": [],
   "source": [
    "\n",
    "# неупорядоченный \"список\", содержащий только уникальные элементы \n",
    "\n",
    "# не хранит дублирующиеся элементы, например:\n",
    "\n",
    "my_set = {1,3,4,4,4,4} \n",
    "\n",
    "print(len(my_set), '|', my_set)\n",
    "\n",
    "# выведет 3 | {1, 3, 4}\n",
    "\n"
   ]
  },
  {
   "cell_type": "markdown",
   "metadata": {},
   "source": [
    "\n",
    "set() может использоваться для отображения уникальных элементов списка."
   ]
  },
  {
   "cell_type": "code",
   "execution_count": null,
   "metadata": {},
   "outputs": [],
   "source": [
    "# например:\n",
    "my_list = [1, 2, 3, 3, 4, 4, 5]\n",
    "print(set(my_list))\n",
    "\n",
    "# выведет: {1, 2, 3, 4, 5}"
   ]
  },
  {
   "cell_type": "markdown",
   "metadata": {},
   "source": [
    "## Тип данных – словарь / dict"
   ]
  },
  {
   "cell_type": "code",
   "execution_count": null,
   "metadata": {},
   "outputs": [],
   "source": [
    "# словарь — неупорядоченный набор пар ключ:значение\n",
    "# обращение к элементу осуществляется по ключу\n",
    "\n",
    "dict = {key: value} # задается фигурными скобками, ключи и значения разделены двоеточием\n",
    "\n",
    "\n"
   ]
  },
  {
   "cell_type": "code",
   "execution_count": null,
   "metadata": {},
   "outputs": [],
   "source": [
    "\n",
    "new_dict = dict() # создание пустого словаря функцией dict()\n",
    "new_dict = {} # создание пустого словаря \n"
   ]
  },
  {
   "cell_type": "code",
   "execution_count": null,
   "metadata": {},
   "outputs": [],
   "source": [
    "\n",
    "\n",
    "# добавление новых элементов в словарь или обновление значений существующих ключей\n",
    "dict[key] = value \n",
    "\n",
    "# в словарь auto мы добавим по ключу mercedes значение germany\n",
    "auto['mercedes'] = 'germany' \n"
   ]
  },
  {
   "cell_type": "markdown",
   "metadata": {},
   "source": [
    "## Обращение к значениям словаря\n",
    "\n"
   ]
  },
  {
   "cell_type": "code",
   "execution_count": null,
   "metadata": {},
   "outputs": [],
   "source": [
    "\n",
    "dict[key] # обращение к значению осуществляется через [], внутри которых ключ\n",
    "dict[key][inner_dict_key] # если внутри первого словаря хранится другой вложенный словарь, можно обратиться к ним поочередно в одной строке\n",
    "\n",
    "# Например:\n",
    "dict = {'продукты':{'хлеб':1, 'яйца':10}}\n",
    "dict['продукты']['хлеб']\n",
    "# вернет 1\n"
   ]
  },
  {
   "cell_type": "markdown",
   "metadata": {},
   "source": [
    "## Методы работы со словарями\n",
    "\n"
   ]
  },
  {
   "cell_type": "code",
   "execution_count": null,
   "metadata": {},
   "outputs": [],
   "source": [
    "\n",
    "dict.get(key,[default]) # возвращает значение ключа, если его нет, возвращает default (по умолчанию None).\n",
    "dict.get('key', 'ключ отсутствует') \n",
    "\n",
    "# вернет значение, найденное по ключу key\n",
    "# или строку 'ключ отсутствует', если ничего не найдет\n",
    "\n",
    "dict.items() # возвращает пары в кортеже (ключ, значение)\n",
    "\n",
    "dict.keys() # возвращает ключи в словаре\n",
    "\n",
    "dict.values() # возвращает значения в словаре\n"
   ]
  },
  {
   "cell_type": "markdown",
   "metadata": {},
   "source": [
    "## Цикл for\n",
    "\n",
    "перебирает все объекты в списке\n"
   ]
  },
  {
   "cell_type": "code",
   "execution_count": null,
   "metadata": {},
   "outputs": [],
   "source": [
    "for i in list:   \n",
    "    print('Привет,', i) \n",
    "\n",
    "# через 4 пробела указываем, что делать с каждым элементом списка"
   ]
  },
  {
   "cell_type": "markdown",
   "metadata": {},
   "source": [
    "## Условные конструкции\n",
    "\n",
    "\n"
   ]
  },
  {
   "cell_type": "code",
   "execution_count": null,
   "metadata": {},
   "outputs": [],
   "source": [
    "if a > b and a!= 4: \n",
    "    print() \n",
    "elif a == b: \n",
    "    print()\n",
    "else: \n",
    "    print()\n"
   ]
  },
  {
   "cell_type": "code",
   "execution_count": 1,
   "metadata": {},
   "outputs": [
    {
     "name": "stderr",
     "output_type": "stream",
     "text": [
      "The filename, directory name, or volume label syntax is incorrect.\n"
     ]
    }
   ],
   "source": [
    "\n",
    "![https://s3-us-west-2.amazonaws.com/secure.notion-static.com/b08fa8c4-6818-49f3-89f7-5c6b2e3aec32/Group_2177.png](https://s3-us-west-2.amazonaws.com/secure.notion-static.com/b08fa8c4-6818-49f3-89f7-5c6b2e3aec32/Group_2177.png)\n",
    "\n"
   ]
  },
  {
   "cell_type": "markdown",
   "metadata": {},
   "source": [
    "## Цикл while\n",
    "\n",
    "будет запущен, пока введенное в цикле условие истинно\n"
   ]
  },
  {
   "cell_type": "code",
   "execution_count": null,
   "metadata": {},
   "outputs": [],
   "source": [
    "while len(list) > 0: # цикл будет работать, пока длина списка больше нуля\n",
    "    print(list.pop()) \n",
    "\n",
    "# каждый раз, находя в списке элементы, цикл удаляет последний,выводя его на экран\n"
   ]
  },
  {
   "cell_type": "markdown",
   "metadata": {},
   "source": [
    "\n",
    "## Циклы и условные конструкции с оператором in / not in\n",
    "\n"
   ]
  },
  {
   "cell_type": "code",
   "execution_count": null,
   "metadata": {},
   "outputs": [],
   "source": [
    "# Если мы хотим проверить, содержит ли объект alphabet элемент a:\n",
    "if a in alphabet:\n",
    "if a not in alphabet:\n",
    "\n",
    "# Если мы хотим пройтись по всем элементам объекта:\n",
    "while a in alphabet\n",
    "while a not in alphabet\n",
    "\n",
    "for a in alphabet\n",
    "\n",
    "\n"
   ]
  },
  {
   "cell_type": "markdown",
   "metadata": {},
   "source": [
    "## Перебор ключей и значений в словаре в цикле for\n",
    "\n"
   ]
  },
  {
   "cell_type": "code",
   "execution_count": null,
   "metadata": {},
   "outputs": [],
   "source": [
    "# элементы словаря в цикле могут называться как угодно \n",
    "# важно лишь их расположение между операторами for и in\n",
    "\n",
    "#1. перебор по ключам \n",
    "for key in dict.keys \n",
    "for car in cars.keys # перебираем по ключам авто в словаре с автомобилями\n",
    "\n",
    "#2. перебор по значениям\n",
    "for value in dict.values \n",
    "for car_data in cars.values # перебираем значения в словаре с автомобилями\n",
    "\n",
    "#3. перебор по ключам и значениям в кортежах\n",
    "for item in dict.items \n",
    "for car_and_data in cars.items # перебираем пары ключ: значение\n",
    "\n",
    "#4. перебор по ключам и значениям, где ключ и значение распакованы в две разные переменные\n",
    "\n",
    "for key, value in dict.items \n",
    "for car, car_data in dict.items \n",
    "# перебираем словарь, используя автомобили и данные по ним в двух разных переменных\n",
    "\n",
    "\n"
   ]
  },
  {
   "cell_type": "markdown",
   "metadata": {},
   "source": [
    "## Функция округления round()\n",
    "\n",
    "\n"
   ]
  },
  {
   "cell_type": "code",
   "execution_count": null,
   "metadata": {},
   "outputs": [],
   "source": [
    "round(value, 2)  # берет два аргумента\n",
    "# value - значение, которое нужно округлить\n",
    "# 2 - количество знаков после запятой"
   ]
  },
  {
   "cell_type": "markdown",
   "metadata": {},
   "source": [
    "## Функция sum()\n",
    "\n"
   ]
  },
  {
   "cell_type": "code",
   "execution_count": null,
   "metadata": {},
   "outputs": [],
   "source": [
    "list = [2, 2 ,3]\n",
    "list_sum = sum(list) # суммирует значения в списке \n",
    "print(list_sum) # выведет 7\n"
   ]
  },
  {
   "cell_type": "code",
   "execution_count": null,
   "metadata": {},
   "outputs": [],
   "source": []
  },
  {
   "cell_type": "code",
   "execution_count": null,
   "metadata": {},
   "outputs": [],
   "source": []
  },
  {
   "cell_type": "code",
   "execution_count": null,
   "metadata": {},
   "outputs": [],
   "source": []
  },
  {
   "cell_type": "code",
   "execution_count": null,
   "metadata": {},
   "outputs": [],
   "source": []
  },
  {
   "cell_type": "code",
   "execution_count": null,
   "metadata": {},
   "outputs": [],
   "source": []
  },
  {
   "cell_type": "code",
   "execution_count": null,
   "metadata": {},
   "outputs": [],
   "source": []
  },
  {
   "cell_type": "code",
   "execution_count": null,
   "metadata": {},
   "outputs": [],
   "source": []
  }
 ],
 "metadata": {
  "kernelspec": {
   "display_name": "Python 3",
   "language": "python",
   "name": "python3"
  },
  "language_info": {
   "codemirror_mode": {
    "name": "ipython",
    "version": 3
   },
   "file_extension": ".py",
   "mimetype": "text/x-python",
   "name": "python",
   "nbconvert_exporter": "python",
   "pygments_lexer": "ipython3",
   "version": "3.8.3"
  }
 },
 "nbformat": 4,
 "nbformat_minor": 4
}
