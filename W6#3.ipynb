{
 "cells": [
  {
   "cell_type": "markdown",
   "metadata": {},
   "source": [
    "1. С помощью цикла найти сумму чисел от X1 до X2, где X1 и X2 - переменные, которые проставляются выше\n"
   ]
  },
  {
   "cell_type": "code",
   "execution_count": 3,
   "metadata": {},
   "outputs": [
    {
     "name": "stdout",
     "output_type": "stream",
     "text": [
      "2\n",
      "2\n",
      "4\n"
     ]
    }
   ],
   "source": [
    "x1 = int(input())\n",
    "x2 = int(input())\n",
    "print(x1 + x2)"
   ]
  },
  {
   "cell_type": "markdown",
   "metadata": {},
   "source": [
    "2. Пользователь вводит число. Если это число чётное - вывести \"ЧИСЛО ЧЁТНОЕ\", если нет - вывести \"ЧИСЛО НЕЧЁТНОЕ\""
   ]
  },
  {
   "cell_type": "code",
   "execution_count": 7,
   "metadata": {},
   "outputs": [
    {
     "name": "stdout",
     "output_type": "stream",
     "text": [
      "2\n",
      "ЧИСЛО ЧЁТНОЕ\n"
     ]
    }
   ],
   "source": [
    "number = int(input())\n",
    "if number % 2 == 0:\n",
    "    print('ЧИСЛО ЧЁТНОЕ')\n",
    "else:\n",
    "    print('ЧИСЛО НЕЧЁТНОЕ')"
   ]
  },
  {
   "cell_type": "markdown",
   "metadata": {},
   "source": [
    "3. Пользователь задаёт три числа. Если среди них есть равные друг другу, то вывести YES, если нет вывести ERROR"
   ]
  },
  {
   "cell_type": "code",
   "execution_count": 9,
   "metadata": {},
   "outputs": [
    {
     "name": "stdout",
     "output_type": "stream",
     "text": [
      "2\n",
      "4\n",
      "5\n",
      "ERROR\n"
     ]
    }
   ],
   "source": [
    "a = int(input())\n",
    "b = int(input())\n",
    "c = int(input())\n",
    "\n",
    "if a == b or b == c or a == c:\n",
    "    print('YES')\n",
    "else:\n",
    "    print('ERROR')"
   ]
  },
  {
   "cell_type": "markdown",
   "metadata": {},
   "source": [
    "4. Пользователь задаёт три числа. Если все эти числа равны друг другу, то вывести YES, если нет вывести ERROR"
   ]
  },
  {
   "cell_type": "code",
   "execution_count": 11,
   "metadata": {},
   "outputs": [
    {
     "name": "stdout",
     "output_type": "stream",
     "text": [
      "3\n",
      "3\n",
      "3\n",
      "yes\n"
     ]
    }
   ],
   "source": [
    "a = int(input())\n",
    "b = int(input())\n",
    "c = int(input())\n",
    "\n",
    "if a == b == c:\n",
    "    print('yes')\n",
    "else:\n",
    "    print('ERROR')"
   ]
  },
  {
   "cell_type": "markdown",
   "metadata": {},
   "source": [
    "5. Импортируйте csv файл с таблицей skytaxi.order_list. Осмотрите датафрейм с помощью head & tail. Замените нуллы в колонках assign_time, arrive_to_client_time и order_finish_time на 01.01.3000\n"
   ]
  },
  {
   "cell_type": "code",
   "execution_count": 52,
   "metadata": {},
   "outputs": [],
   "source": [
    "import pandas as pd\n",
    "import datetime as dt\n"
   ]
  },
  {
   "cell_type": "code",
   "execution_count": 54,
   "metadata": {},
   "outputs": [],
   "source": [
    "order_list = pd.read_csv('C:/Users/risenroad/Documents/Skypro/ISA/query_result_2022-06-09T13_23_28.035944Z.csv')"
   ]
  },
  {
   "cell_type": "code",
   "execution_count": 55,
   "metadata": {},
   "outputs": [
    {
     "data": {
      "text/html": [
       "<div>\n",
       "<style scoped>\n",
       "    .dataframe tbody tr th:only-of-type {\n",
       "        vertical-align: middle;\n",
       "    }\n",
       "\n",
       "    .dataframe tbody tr th {\n",
       "        vertical-align: top;\n",
       "    }\n",
       "\n",
       "    .dataframe thead th {\n",
       "        text-align: right;\n",
       "    }\n",
       "</style>\n",
       "<table border=\"1\" class=\"dataframe\">\n",
       "  <thead>\n",
       "    <tr style=\"text-align: right;\">\n",
       "      <th></th>\n",
       "      <th>id_order</th>\n",
       "      <th>id_driver</th>\n",
       "      <th>order_time</th>\n",
       "      <th>assign_time</th>\n",
       "      <th>arrive_to_client_time</th>\n",
       "      <th>order_finish_time</th>\n",
       "      <th>id_tariff</th>\n",
       "      <th>id_city</th>\n",
       "    </tr>\n",
       "  </thead>\n",
       "  <tbody>\n",
       "    <tr>\n",
       "      <th>0</th>\n",
       "      <td>113612</td>\n",
       "      <td>1644.0</td>\n",
       "      <td>2021-07-01T00:13:39</td>\n",
       "      <td>NaN</td>\n",
       "      <td>NaN</td>\n",
       "      <td>NaN</td>\n",
       "      <td>11.0</td>\n",
       "      <td>117</td>\n",
       "    </tr>\n",
       "    <tr>\n",
       "      <th>1</th>\n",
       "      <td>110195</td>\n",
       "      <td>280.0</td>\n",
       "      <td>2021-07-01T00:17:26</td>\n",
       "      <td>2021-07-01T00:23:26</td>\n",
       "      <td>2021-07-01T00:33:26</td>\n",
       "      <td>NaN</td>\n",
       "      <td>11.0</td>\n",
       "      <td>112</td>\n",
       "    </tr>\n",
       "    <tr>\n",
       "      <th>2</th>\n",
       "      <td>114560</td>\n",
       "      <td>2536.0</td>\n",
       "      <td>2021-07-01T00:36:00</td>\n",
       "      <td>2021-07-01T00:41:00</td>\n",
       "      <td>2021-07-01T00:44:00</td>\n",
       "      <td>2021-07-01T01:42:00</td>\n",
       "      <td>10.0</td>\n",
       "      <td>115</td>\n",
       "    </tr>\n",
       "    <tr>\n",
       "      <th>3</th>\n",
       "      <td>111284</td>\n",
       "      <td>NaN</td>\n",
       "      <td>2021-07-01T00:36:32</td>\n",
       "      <td>NaN</td>\n",
       "      <td>NaN</td>\n",
       "      <td>NaN</td>\n",
       "      <td>11.0</td>\n",
       "      <td>111</td>\n",
       "    </tr>\n",
       "    <tr>\n",
       "      <th>4</th>\n",
       "      <td>110131</td>\n",
       "      <td>3730.0</td>\n",
       "      <td>2021-07-01T00:36:34</td>\n",
       "      <td>2021-07-01T00:40:34</td>\n",
       "      <td>2021-07-01T00:50:34</td>\n",
       "      <td>NaN</td>\n",
       "      <td>10.0</td>\n",
       "      <td>118</td>\n",
       "    </tr>\n",
       "    <tr>\n",
       "      <th>...</th>\n",
       "      <td>...</td>\n",
       "      <td>...</td>\n",
       "      <td>...</td>\n",
       "      <td>...</td>\n",
       "      <td>...</td>\n",
       "      <td>...</td>\n",
       "      <td>...</td>\n",
       "      <td>...</td>\n",
       "    </tr>\n",
       "    <tr>\n",
       "      <th>4995</th>\n",
       "      <td>110175</td>\n",
       "      <td>3952.0</td>\n",
       "      <td>2021-07-31T22:23:06</td>\n",
       "      <td>2021-07-31T22:25:06</td>\n",
       "      <td>2021-07-31T22:33:06</td>\n",
       "      <td>2021-07-31T23:09:06</td>\n",
       "      <td>10.0</td>\n",
       "      <td>111</td>\n",
       "    </tr>\n",
       "    <tr>\n",
       "      <th>4996</th>\n",
       "      <td>112011</td>\n",
       "      <td>869.0</td>\n",
       "      <td>2021-07-31T22:33:22</td>\n",
       "      <td>NaN</td>\n",
       "      <td>NaN</td>\n",
       "      <td>NaN</td>\n",
       "      <td>10.0</td>\n",
       "      <td>116</td>\n",
       "    </tr>\n",
       "    <tr>\n",
       "      <th>4997</th>\n",
       "      <td>113759</td>\n",
       "      <td>2831.0</td>\n",
       "      <td>2021-07-31T22:38:43</td>\n",
       "      <td>2021-07-31T22:41:43</td>\n",
       "      <td>2021-07-31T22:52:43</td>\n",
       "      <td>2021-07-31T23:14:43</td>\n",
       "      <td>10.0</td>\n",
       "      <td>111</td>\n",
       "    </tr>\n",
       "    <tr>\n",
       "      <th>4998</th>\n",
       "      <td>113847</td>\n",
       "      <td>3443.0</td>\n",
       "      <td>2021-07-31T22:42:38</td>\n",
       "      <td>2021-07-31T22:46:38</td>\n",
       "      <td>NaN</td>\n",
       "      <td>NaN</td>\n",
       "      <td>1.0</td>\n",
       "      <td>113</td>\n",
       "    </tr>\n",
       "    <tr>\n",
       "      <th>4999</th>\n",
       "      <td>110907</td>\n",
       "      <td>1487.0</td>\n",
       "      <td>2021-07-31T23:09:15</td>\n",
       "      <td>2021-07-31T23:15:15</td>\n",
       "      <td>2021-07-31T23:27:15</td>\n",
       "      <td>2021-07-31T23:59:15</td>\n",
       "      <td>10.0</td>\n",
       "      <td>119</td>\n",
       "    </tr>\n",
       "  </tbody>\n",
       "</table>\n",
       "<p>5000 rows × 8 columns</p>\n",
       "</div>"
      ],
      "text/plain": [
       "      id_order  id_driver           order_time          assign_time  \\\n",
       "0       113612     1644.0  2021-07-01T00:13:39                  NaN   \n",
       "1       110195      280.0  2021-07-01T00:17:26  2021-07-01T00:23:26   \n",
       "2       114560     2536.0  2021-07-01T00:36:00  2021-07-01T00:41:00   \n",
       "3       111284        NaN  2021-07-01T00:36:32                  NaN   \n",
       "4       110131     3730.0  2021-07-01T00:36:34  2021-07-01T00:40:34   \n",
       "...        ...        ...                  ...                  ...   \n",
       "4995    110175     3952.0  2021-07-31T22:23:06  2021-07-31T22:25:06   \n",
       "4996    112011      869.0  2021-07-31T22:33:22                  NaN   \n",
       "4997    113759     2831.0  2021-07-31T22:38:43  2021-07-31T22:41:43   \n",
       "4998    113847     3443.0  2021-07-31T22:42:38  2021-07-31T22:46:38   \n",
       "4999    110907     1487.0  2021-07-31T23:09:15  2021-07-31T23:15:15   \n",
       "\n",
       "     arrive_to_client_time    order_finish_time  id_tariff  id_city  \n",
       "0                      NaN                  NaN       11.0      117  \n",
       "1      2021-07-01T00:33:26                  NaN       11.0      112  \n",
       "2      2021-07-01T00:44:00  2021-07-01T01:42:00       10.0      115  \n",
       "3                      NaN                  NaN       11.0      111  \n",
       "4      2021-07-01T00:50:34                  NaN       10.0      118  \n",
       "...                    ...                  ...        ...      ...  \n",
       "4995   2021-07-31T22:33:06  2021-07-31T23:09:06       10.0      111  \n",
       "4996                   NaN                  NaN       10.0      116  \n",
       "4997   2021-07-31T22:52:43  2021-07-31T23:14:43       10.0      111  \n",
       "4998                   NaN                  NaN        1.0      113  \n",
       "4999   2021-07-31T23:27:15  2021-07-31T23:59:15       10.0      119  \n",
       "\n",
       "[5000 rows x 8 columns]"
      ]
     },
     "execution_count": 55,
     "metadata": {},
     "output_type": "execute_result"
    }
   ],
   "source": [
    "order_list"
   ]
  },
  {
   "cell_type": "code",
   "execution_count": 60,
   "metadata": {},
   "outputs": [
    {
     "ename": "AttributeError",
     "evalue": "module 'datetime' has no attribute 'Timestamp'",
     "output_type": "error",
     "traceback": [
      "\u001b[1;31m---------------------------------------------------------------------------\u001b[0m",
      "\u001b[1;31mAttributeError\u001b[0m                            Traceback (most recent call last)",
      "\u001b[1;32m<ipython-input-60-6dbee0d14100>\u001b[0m in \u001b[0;36m<module>\u001b[1;34m\u001b[0m\n\u001b[1;32m----> 1\u001b[1;33m \u001b[0morder_list\u001b[0m\u001b[1;33m[\u001b[0m\u001b[1;34m'assign_time'\u001b[0m\u001b[1;33m]\u001b[0m\u001b[1;33m.\u001b[0m\u001b[0mfillna\u001b[0m\u001b[1;33m(\u001b[0m\u001b[0mdt\u001b[0m\u001b[1;33m.\u001b[0m\u001b[0mTimestamp\u001b[0m\u001b[1;33m(\u001b[0m\u001b[1;36m3000\u001b[0m\u001b[1;33m,\u001b[0m\u001b[1;36m1\u001b[0m\u001b[1;33m,\u001b[0m\u001b[1;36m1\u001b[0m\u001b[1;33m)\u001b[0m\u001b[1;33m,\u001b[0m \u001b[0minplace\u001b[0m \u001b[1;33m=\u001b[0m \u001b[1;32mTrue\u001b[0m\u001b[1;33m)\u001b[0m\u001b[1;33m\u001b[0m\u001b[1;33m\u001b[0m\u001b[0m\n\u001b[0m\u001b[0;32m      2\u001b[0m \u001b[0morder_list\u001b[0m\u001b[1;33m[\u001b[0m\u001b[1;34m'arrive_to_client_time'\u001b[0m\u001b[1;33m]\u001b[0m\u001b[1;33m.\u001b[0m\u001b[0mfillna\u001b[0m\u001b[1;33m(\u001b[0m\u001b[0mdt\u001b[0m\u001b[1;33m.\u001b[0m\u001b[0mdatetime\u001b[0m\u001b[1;33m(\u001b[0m\u001b[1;36m3000\u001b[0m\u001b[1;33m,\u001b[0m\u001b[1;36m1\u001b[0m\u001b[1;33m,\u001b[0m\u001b[1;36m1\u001b[0m\u001b[1;33m)\u001b[0m\u001b[1;33m,\u001b[0m \u001b[0minplace\u001b[0m \u001b[1;33m=\u001b[0m \u001b[1;32mTrue\u001b[0m\u001b[1;33m)\u001b[0m\u001b[1;33m\u001b[0m\u001b[1;33m\u001b[0m\u001b[0m\n\u001b[0;32m      3\u001b[0m \u001b[0morder_list\u001b[0m\u001b[1;33m[\u001b[0m\u001b[1;34m'order_finish_time'\u001b[0m\u001b[1;33m]\u001b[0m\u001b[1;33m.\u001b[0m\u001b[0mfillna\u001b[0m\u001b[1;33m(\u001b[0m\u001b[0mdt\u001b[0m\u001b[1;33m.\u001b[0m\u001b[0mdatetime\u001b[0m\u001b[1;33m(\u001b[0m\u001b[1;36m3000\u001b[0m\u001b[1;33m,\u001b[0m\u001b[1;36m1\u001b[0m\u001b[1;33m,\u001b[0m\u001b[1;36m1\u001b[0m\u001b[1;33m)\u001b[0m\u001b[1;33m,\u001b[0m \u001b[0minplace\u001b[0m \u001b[1;33m=\u001b[0m \u001b[1;32mTrue\u001b[0m\u001b[1;33m)\u001b[0m\u001b[1;33m\u001b[0m\u001b[1;33m\u001b[0m\u001b[0m\n",
      "\u001b[1;31mAttributeError\u001b[0m: module 'datetime' has no attribute 'Timestamp'"
     ]
    }
   ],
   "source": [
    "order_list['assign_time'].fillna(dt.datetime(3000,1,1), inplace = True)\n",
    "order_list['arrive_to_client_time'].fillna(dt.datetime(3000,1,1), inplace = True)\n",
    "order_list['order_finish_time'].fillna(dt.datetime(3000,1,1), inplace = True)"
   ]
  },
  {
   "cell_type": "code",
   "execution_count": 59,
   "metadata": {},
   "outputs": [
    {
     "data": {
      "text/html": [
       "<div>\n",
       "<style scoped>\n",
       "    .dataframe tbody tr th:only-of-type {\n",
       "        vertical-align: middle;\n",
       "    }\n",
       "\n",
       "    .dataframe tbody tr th {\n",
       "        vertical-align: top;\n",
       "    }\n",
       "\n",
       "    .dataframe thead th {\n",
       "        text-align: right;\n",
       "    }\n",
       "</style>\n",
       "<table border=\"1\" class=\"dataframe\">\n",
       "  <thead>\n",
       "    <tr style=\"text-align: right;\">\n",
       "      <th></th>\n",
       "      <th>id_order</th>\n",
       "      <th>id_driver</th>\n",
       "      <th>order_time</th>\n",
       "      <th>assign_time</th>\n",
       "      <th>arrive_to_client_time</th>\n",
       "      <th>order_finish_time</th>\n",
       "      <th>id_tariff</th>\n",
       "      <th>id_city</th>\n",
       "    </tr>\n",
       "  </thead>\n",
       "  <tbody>\n",
       "    <tr>\n",
       "      <th>0</th>\n",
       "      <td>113612</td>\n",
       "      <td>1644.0</td>\n",
       "      <td>2021-07-01T00:13:39</td>\n",
       "      <td>3000-01-01 00:00:00</td>\n",
       "      <td>3000-01-01 00:00:00</td>\n",
       "      <td>3000-01-01 00:00:00</td>\n",
       "      <td>11.0</td>\n",
       "      <td>117</td>\n",
       "    </tr>\n",
       "    <tr>\n",
       "      <th>1</th>\n",
       "      <td>110195</td>\n",
       "      <td>280.0</td>\n",
       "      <td>2021-07-01T00:17:26</td>\n",
       "      <td>2021-07-01T00:23:26</td>\n",
       "      <td>2021-07-01T00:33:26</td>\n",
       "      <td>3000-01-01 00:00:00</td>\n",
       "      <td>11.0</td>\n",
       "      <td>112</td>\n",
       "    </tr>\n",
       "    <tr>\n",
       "      <th>2</th>\n",
       "      <td>114560</td>\n",
       "      <td>2536.0</td>\n",
       "      <td>2021-07-01T00:36:00</td>\n",
       "      <td>2021-07-01T00:41:00</td>\n",
       "      <td>2021-07-01T00:44:00</td>\n",
       "      <td>2021-07-01T01:42:00</td>\n",
       "      <td>10.0</td>\n",
       "      <td>115</td>\n",
       "    </tr>\n",
       "    <tr>\n",
       "      <th>3</th>\n",
       "      <td>111284</td>\n",
       "      <td>NaN</td>\n",
       "      <td>2021-07-01T00:36:32</td>\n",
       "      <td>3000-01-01 00:00:00</td>\n",
       "      <td>3000-01-01 00:00:00</td>\n",
       "      <td>3000-01-01 00:00:00</td>\n",
       "      <td>11.0</td>\n",
       "      <td>111</td>\n",
       "    </tr>\n",
       "    <tr>\n",
       "      <th>4</th>\n",
       "      <td>110131</td>\n",
       "      <td>3730.0</td>\n",
       "      <td>2021-07-01T00:36:34</td>\n",
       "      <td>2021-07-01T00:40:34</td>\n",
       "      <td>2021-07-01T00:50:34</td>\n",
       "      <td>3000-01-01 00:00:00</td>\n",
       "      <td>10.0</td>\n",
       "      <td>118</td>\n",
       "    </tr>\n",
       "    <tr>\n",
       "      <th>...</th>\n",
       "      <td>...</td>\n",
       "      <td>...</td>\n",
       "      <td>...</td>\n",
       "      <td>...</td>\n",
       "      <td>...</td>\n",
       "      <td>...</td>\n",
       "      <td>...</td>\n",
       "      <td>...</td>\n",
       "    </tr>\n",
       "    <tr>\n",
       "      <th>4995</th>\n",
       "      <td>110175</td>\n",
       "      <td>3952.0</td>\n",
       "      <td>2021-07-31T22:23:06</td>\n",
       "      <td>2021-07-31T22:25:06</td>\n",
       "      <td>2021-07-31T22:33:06</td>\n",
       "      <td>2021-07-31T23:09:06</td>\n",
       "      <td>10.0</td>\n",
       "      <td>111</td>\n",
       "    </tr>\n",
       "    <tr>\n",
       "      <th>4996</th>\n",
       "      <td>112011</td>\n",
       "      <td>869.0</td>\n",
       "      <td>2021-07-31T22:33:22</td>\n",
       "      <td>3000-01-01 00:00:00</td>\n",
       "      <td>3000-01-01 00:00:00</td>\n",
       "      <td>3000-01-01 00:00:00</td>\n",
       "      <td>10.0</td>\n",
       "      <td>116</td>\n",
       "    </tr>\n",
       "    <tr>\n",
       "      <th>4997</th>\n",
       "      <td>113759</td>\n",
       "      <td>2831.0</td>\n",
       "      <td>2021-07-31T22:38:43</td>\n",
       "      <td>2021-07-31T22:41:43</td>\n",
       "      <td>2021-07-31T22:52:43</td>\n",
       "      <td>2021-07-31T23:14:43</td>\n",
       "      <td>10.0</td>\n",
       "      <td>111</td>\n",
       "    </tr>\n",
       "    <tr>\n",
       "      <th>4998</th>\n",
       "      <td>113847</td>\n",
       "      <td>3443.0</td>\n",
       "      <td>2021-07-31T22:42:38</td>\n",
       "      <td>2021-07-31T22:46:38</td>\n",
       "      <td>3000-01-01 00:00:00</td>\n",
       "      <td>3000-01-01 00:00:00</td>\n",
       "      <td>1.0</td>\n",
       "      <td>113</td>\n",
       "    </tr>\n",
       "    <tr>\n",
       "      <th>4999</th>\n",
       "      <td>110907</td>\n",
       "      <td>1487.0</td>\n",
       "      <td>2021-07-31T23:09:15</td>\n",
       "      <td>2021-07-31T23:15:15</td>\n",
       "      <td>2021-07-31T23:27:15</td>\n",
       "      <td>2021-07-31T23:59:15</td>\n",
       "      <td>10.0</td>\n",
       "      <td>119</td>\n",
       "    </tr>\n",
       "  </tbody>\n",
       "</table>\n",
       "<p>5000 rows × 8 columns</p>\n",
       "</div>"
      ],
      "text/plain": [
       "      id_order  id_driver           order_time          assign_time  \\\n",
       "0       113612     1644.0  2021-07-01T00:13:39  3000-01-01 00:00:00   \n",
       "1       110195      280.0  2021-07-01T00:17:26  2021-07-01T00:23:26   \n",
       "2       114560     2536.0  2021-07-01T00:36:00  2021-07-01T00:41:00   \n",
       "3       111284        NaN  2021-07-01T00:36:32  3000-01-01 00:00:00   \n",
       "4       110131     3730.0  2021-07-01T00:36:34  2021-07-01T00:40:34   \n",
       "...        ...        ...                  ...                  ...   \n",
       "4995    110175     3952.0  2021-07-31T22:23:06  2021-07-31T22:25:06   \n",
       "4996    112011      869.0  2021-07-31T22:33:22  3000-01-01 00:00:00   \n",
       "4997    113759     2831.0  2021-07-31T22:38:43  2021-07-31T22:41:43   \n",
       "4998    113847     3443.0  2021-07-31T22:42:38  2021-07-31T22:46:38   \n",
       "4999    110907     1487.0  2021-07-31T23:09:15  2021-07-31T23:15:15   \n",
       "\n",
       "     arrive_to_client_time    order_finish_time  id_tariff  id_city  \n",
       "0      3000-01-01 00:00:00  3000-01-01 00:00:00       11.0      117  \n",
       "1      2021-07-01T00:33:26  3000-01-01 00:00:00       11.0      112  \n",
       "2      2021-07-01T00:44:00  2021-07-01T01:42:00       10.0      115  \n",
       "3      3000-01-01 00:00:00  3000-01-01 00:00:00       11.0      111  \n",
       "4      2021-07-01T00:50:34  3000-01-01 00:00:00       10.0      118  \n",
       "...                    ...                  ...        ...      ...  \n",
       "4995   2021-07-31T22:33:06  2021-07-31T23:09:06       10.0      111  \n",
       "4996   3000-01-01 00:00:00  3000-01-01 00:00:00       10.0      116  \n",
       "4997   2021-07-31T22:52:43  2021-07-31T23:14:43       10.0      111  \n",
       "4998   3000-01-01 00:00:00  3000-01-01 00:00:00        1.0      113  \n",
       "4999   2021-07-31T23:27:15  2021-07-31T23:59:15       10.0      119  \n",
       "\n",
       "[5000 rows x 8 columns]"
      ]
     },
     "execution_count": 59,
     "metadata": {},
     "output_type": "execute_result"
    }
   ],
   "source": [
    "order_list"
   ]
  },
  {
   "cell_type": "markdown",
   "metadata": {},
   "source": [
    "6. Напишите функцию, которая будет делать анализ числа (аргумент - одно число):\n",
    "    - Если число = 0, то функция напишет \"введите ненулевое число\"\n",
    "    - Функция скажет, является ли число чётным\n",
    "    - Функция скажет, больше ли это число чем 10\n",
    "    - Функция напечатает квадрат и куб этого числа\n",
    "    - Функция скажет, является ли число отрицательным"
   ]
  },
  {
   "cell_type": "code",
   "execution_count": 112,
   "metadata": {},
   "outputs": [],
   "source": [
    "def num_analytics(x):\n",
    "    if x > 10:\n",
    "        bigger_then_10 = 'число больше 10'\n",
    "    else:\n",
    "        bigger_then_10 = 'число меньше 10'\n",
    "    \n",
    "    qub = \"куб числа равен \" + str(x**3) \n",
    "    sqr = \"квадрат числа равен \" + str(x**2)\n",
    "    \n",
    "    if x > 0:\n",
    "        is_positiv = 'число положительное'\n",
    "    else:\n",
    "        is_positiv = 'число отрицательное'\n",
    "    return qub, sqr, bigger_then_10, is_positiv\n",
    "    "
   ]
  },
  {
   "cell_type": "code",
   "execution_count": 113,
   "metadata": {},
   "outputs": [
    {
     "data": {
      "text/plain": [
       "('куб числа равен 27',\n",
       " 'квадрат числа равен 9',\n",
       " 'число меньше 10',\n",
       " 'число положительное')"
      ]
     },
     "execution_count": 113,
     "metadata": {},
     "output_type": "execute_result"
    }
   ],
   "source": [
    "num_analytics(3)\n"
   ]
  },
  {
   "cell_type": "code",
   "execution_count": null,
   "metadata": {},
   "outputs": [],
   "source": []
  },
  {
   "cell_type": "code",
   "execution_count": null,
   "metadata": {},
   "outputs": [],
   "source": []
  }
 ],
 "metadata": {
  "kernelspec": {
   "display_name": "Python 3",
   "language": "python",
   "name": "python3"
  },
  "language_info": {
   "codemirror_mode": {
    "name": "ipython",
    "version": 3
   },
   "file_extension": ".py",
   "mimetype": "text/x-python",
   "name": "python",
   "nbconvert_exporter": "python",
   "pygments_lexer": "ipython3",
   "version": "3.8.3"
  }
 },
 "nbformat": 4,
 "nbformat_minor": 4
}
